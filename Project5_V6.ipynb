{
  "nbformat": 4,
  "nbformat_minor": 0,
  "metadata": {
    "colab": {
      "provenance": [],
      "include_colab_link": true
    },
    "kernelspec": {
      "name": "python3",
      "display_name": "Python 3"
    },
    "language_info": {
      "name": "python"
    }
  },
  "cells": [
    {
      "cell_type": "markdown",
      "metadata": {
        "id": "view-in-github",
        "colab_type": "text"
      },
      "source": [
        "<a href=\"https://colab.research.google.com/github/nprimavera/Reinforcement-Learning/blob/main/Project5_V6.ipynb\" target=\"_parent\"><img src=\"https://colab.research.google.com/assets/colab-badge.svg\" alt=\"Open In Colab\"/></a>"
      ]
    },
    {
      "cell_type": "markdown",
      "source": [
        "# **MECS6616 Spring 2025 - Project 5**"
      ],
      "metadata": {
        "id": "PxhEChyomf5o"
      }
    },
    {
      "cell_type": "markdown",
      "source": [
        "# **Introduction**\n",
        "\n",
        "***IMPORTANT:***\n",
        "- **Before starting, make sure to read the [Assignment Instructions](https://courseworks2.columbia.edu/courses/215046/pages/assignment-instructions) page on Courseworks to understand the workflow and submission requirements for this project.**\n",
        "\n",
        "**FOR PROJECT 5!!!**\n",
        "- Apart from the link to your notebook, you are also required to submit `q_network.pth` of Part 1 and `ppo_network.zip` (model checkpoints are loaded and saved by stable_baselines3 as zip files) of Part 2 to Coursework. You should put the link to your notebook in the comment entry"
      ],
      "metadata": {
        "id": "50kTBhSwmrJB"
      }
    },
    {
      "cell_type": "markdown",
      "metadata": {
        "id": "inY7y5CRo97q"
      },
      "source": [
        "# Project Setup\n"
      ]
    },
    {
      "cell_type": "code",
      "source": [
        "# DO NOT CHANGE\n",
        "\n",
        "# There will be error messages from this command. You can ignore those error messages\n",
        "# as long as you see \"Successfully installed setuptools-65.5.0\" at the end.\n",
        "\n",
        "# After installing setuptools, a pop-up window will appear and you will be prompted\n",
        "# to restart the notebook environment. Click on the restart environment button before continuing\n",
        "\n",
        "!pip install setuptools==65.5.0"
      ],
      "metadata": {
        "id": "PTRNqFBLkRDV",
        "colab": {
          "base_uri": "https://localhost:8080/"
        },
        "outputId": "2e83b814-9375-49cd-de47-42e1d543185b"
      },
      "execution_count": 1,
      "outputs": [
        {
          "output_type": "stream",
          "name": "stdout",
          "text": [
            "Requirement already satisfied: setuptools==65.5.0 in /usr/local/lib/python3.11/dist-packages (65.5.0)\n"
          ]
        }
      ]
    },
    {
      "cell_type": "markdown",
      "source": [
        "**----------------------------**\n",
        "**WAIT FOR NOTEBOOK TO RESTART**\n",
        "**----------------------------**"
      ],
      "metadata": {
        "id": "tnf22sQzqw6_"
      }
    },
    {
      "cell_type": "code",
      "execution_count": 2,
      "metadata": {
        "id": "QPIiNSZ8hb8Z",
        "colab": {
          "base_uri": "https://localhost:8080/"
        },
        "outputId": "3e490630-3f8a-46ef-9253-69dbe5fd1d8f"
      },
      "outputs": [
        {
          "output_type": "stream",
          "name": "stdout",
          "text": [
            "Cloning into 'mecs6616_sp24_project5'...\n",
            "remote: Enumerating objects: 15, done.\u001b[K\n",
            "remote: Counting objects: 100% (15/15), done.\u001b[K\n",
            "remote: Compressing objects: 100% (11/11), done.\u001b[K\n",
            "remote: Total 15 (delta 0), reused 0 (delta 0), pack-reused 0 (from 0)\u001b[K\n",
            "Receiving objects: 100% (15/15), 9.22 KiB | 4.61 MiB/s, done.\n"
          ]
        }
      ],
      "source": [
        "# DO NOT CHANGE\n",
        "\n",
        "# After running this cell, the folder 'mecs6616_sp25_project5' will show up in the file explorer on the left (click on the folder icon if it's not open)\n",
        "# It may take a few seconds to appear\n",
        "!git clone https://github.com/roamlab/mecs6616_sp24_project5.git\n",
        "!mv /content/mecs6616_sp24_project5 /content/mecs6616_sp25_project5"
      ]
    },
    {
      "cell_type": "code",
      "execution_count": 3,
      "metadata": {
        "id": "ise8RAQhhs3X",
        "colab": {
          "base_uri": "https://localhost:8080/"
        },
        "outputId": "7f92638b-e23f-4ece-ffb3-da51cf44d9f2"
      },
      "outputs": [
        {
          "output_type": "stream",
          "name": "stdout",
          "text": [
            "'/content/mecs6616_sp25_project5/arm_dynamics_base.py' -> '/content/arm_dynamics_base.py'\n",
            "'/content/mecs6616_sp25_project5/arm_dynamics.py' -> '/content/arm_dynamics.py'\n",
            "'/content/mecs6616_sp25_project5/arm_env.py' -> '/content/arm_env.py'\n",
            "'/content/mecs6616_sp25_project5/geometry.py' -> '/content/geometry.py'\n",
            "'/content/mecs6616_sp25_project5/mecs6616_sp24_project5' -> '/content/mecs6616_sp24_project5'\n",
            "'/content/mecs6616_sp25_project5/mecs6616_sp24_project5/.git' -> '/content/mecs6616_sp24_project5/.git'\n",
            "'/content/mecs6616_sp25_project5/mecs6616_sp24_project5/.git/description' -> '/content/mecs6616_sp24_project5/.git/description'\n",
            "'/content/mecs6616_sp25_project5/mecs6616_sp24_project5/.git/branches' -> '/content/mecs6616_sp24_project5/.git/branches'\n",
            "'/content/mecs6616_sp25_project5/mecs6616_sp24_project5/.git/hooks' -> '/content/mecs6616_sp24_project5/.git/hooks'\n",
            "'/content/mecs6616_sp25_project5/mecs6616_sp24_project5/.git/hooks/fsmonitor-watchman.sample' -> '/content/mecs6616_sp24_project5/.git/hooks/fsmonitor-watchman.sample'\n",
            "'/content/mecs6616_sp25_project5/mecs6616_sp24_project5/.git/hooks/pre-rebase.sample' -> '/content/mecs6616_sp24_project5/.git/hooks/pre-rebase.sample'\n",
            "'/content/mecs6616_sp25_project5/mecs6616_sp24_project5/.git/hooks/prepare-commit-msg.sample' -> '/content/mecs6616_sp24_project5/.git/hooks/prepare-commit-msg.sample'\n",
            "'/content/mecs6616_sp25_project5/mecs6616_sp24_project5/.git/hooks/commit-msg.sample' -> '/content/mecs6616_sp24_project5/.git/hooks/commit-msg.sample'\n",
            "'/content/mecs6616_sp25_project5/mecs6616_sp24_project5/.git/hooks/pre-receive.sample' -> '/content/mecs6616_sp24_project5/.git/hooks/pre-receive.sample'\n",
            "'/content/mecs6616_sp25_project5/mecs6616_sp24_project5/.git/hooks/pre-applypatch.sample' -> '/content/mecs6616_sp24_project5/.git/hooks/pre-applypatch.sample'\n",
            "'/content/mecs6616_sp25_project5/mecs6616_sp24_project5/.git/hooks/pre-push.sample' -> '/content/mecs6616_sp24_project5/.git/hooks/pre-push.sample'\n",
            "'/content/mecs6616_sp25_project5/mecs6616_sp24_project5/.git/hooks/pre-merge-commit.sample' -> '/content/mecs6616_sp24_project5/.git/hooks/pre-merge-commit.sample'\n",
            "'/content/mecs6616_sp25_project5/mecs6616_sp24_project5/.git/hooks/update.sample' -> '/content/mecs6616_sp24_project5/.git/hooks/update.sample'\n",
            "'/content/mecs6616_sp25_project5/mecs6616_sp24_project5/.git/hooks/push-to-checkout.sample' -> '/content/mecs6616_sp24_project5/.git/hooks/push-to-checkout.sample'\n",
            "'/content/mecs6616_sp25_project5/mecs6616_sp24_project5/.git/hooks/post-update.sample' -> '/content/mecs6616_sp24_project5/.git/hooks/post-update.sample'\n",
            "'/content/mecs6616_sp25_project5/mecs6616_sp24_project5/.git/hooks/applypatch-msg.sample' -> '/content/mecs6616_sp24_project5/.git/hooks/applypatch-msg.sample'\n",
            "'/content/mecs6616_sp25_project5/mecs6616_sp24_project5/.git/hooks/pre-commit.sample' -> '/content/mecs6616_sp24_project5/.git/hooks/pre-commit.sample'\n",
            "'/content/mecs6616_sp25_project5/mecs6616_sp24_project5/.git/info' -> '/content/mecs6616_sp24_project5/.git/info'\n",
            "'/content/mecs6616_sp25_project5/mecs6616_sp24_project5/.git/info/exclude' -> '/content/mecs6616_sp24_project5/.git/info/exclude'\n",
            "'/content/mecs6616_sp25_project5/mecs6616_sp24_project5/.git/refs' -> '/content/mecs6616_sp24_project5/.git/refs'\n",
            "'/content/mecs6616_sp25_project5/mecs6616_sp24_project5/.git/refs/heads' -> '/content/mecs6616_sp24_project5/.git/refs/heads'\n",
            "'/content/mecs6616_sp25_project5/mecs6616_sp24_project5/.git/refs/heads/main' -> '/content/mecs6616_sp24_project5/.git/refs/heads/main'\n",
            "'/content/mecs6616_sp25_project5/mecs6616_sp24_project5/.git/refs/tags' -> '/content/mecs6616_sp24_project5/.git/refs/tags'\n",
            "'/content/mecs6616_sp25_project5/mecs6616_sp24_project5/.git/refs/remotes' -> '/content/mecs6616_sp24_project5/.git/refs/remotes'\n",
            "'/content/mecs6616_sp25_project5/mecs6616_sp24_project5/.git/refs/remotes/origin' -> '/content/mecs6616_sp24_project5/.git/refs/remotes/origin'\n",
            "'/content/mecs6616_sp25_project5/mecs6616_sp24_project5/.git/refs/remotes/origin/HEAD' -> '/content/mecs6616_sp24_project5/.git/refs/remotes/origin/HEAD'\n",
            "'/content/mecs6616_sp25_project5/mecs6616_sp24_project5/.git/index' -> '/content/mecs6616_sp24_project5/.git/index'\n",
            "'/content/mecs6616_sp25_project5/mecs6616_sp24_project5/.git/objects' -> '/content/mecs6616_sp24_project5/.git/objects'\n",
            "'/content/mecs6616_sp25_project5/mecs6616_sp24_project5/.git/objects/pack' -> '/content/mecs6616_sp24_project5/.git/objects/pack'\n",
            "'/content/mecs6616_sp25_project5/mecs6616_sp24_project5/.git/objects/pack/pack-2049da8647337dd2a4651ce334d5defad719b52a.pack' -> '/content/mecs6616_sp24_project5/.git/objects/pack/pack-2049da8647337dd2a4651ce334d5defad719b52a.pack'\n",
            "'/content/mecs6616_sp25_project5/mecs6616_sp24_project5/.git/objects/pack/pack-2049da8647337dd2a4651ce334d5defad719b52a.idx' -> '/content/mecs6616_sp24_project5/.git/objects/pack/pack-2049da8647337dd2a4651ce334d5defad719b52a.idx'\n",
            "'/content/mecs6616_sp25_project5/mecs6616_sp24_project5/.git/objects/info' -> '/content/mecs6616_sp24_project5/.git/objects/info'\n",
            "'/content/mecs6616_sp25_project5/mecs6616_sp24_project5/.git/config' -> '/content/mecs6616_sp24_project5/.git/config'\n",
            "'/content/mecs6616_sp25_project5/mecs6616_sp24_project5/.git/packed-refs' -> '/content/mecs6616_sp24_project5/.git/packed-refs'\n",
            "'/content/mecs6616_sp25_project5/mecs6616_sp24_project5/.git/logs' -> '/content/mecs6616_sp24_project5/.git/logs'\n",
            "'/content/mecs6616_sp25_project5/mecs6616_sp24_project5/.git/logs/refs' -> '/content/mecs6616_sp24_project5/.git/logs/refs'\n",
            "'/content/mecs6616_sp25_project5/mecs6616_sp24_project5/.git/logs/refs/remotes' -> '/content/mecs6616_sp24_project5/.git/logs/refs/remotes'\n",
            "'/content/mecs6616_sp25_project5/mecs6616_sp24_project5/.git/logs/refs/remotes/origin' -> '/content/mecs6616_sp24_project5/.git/logs/refs/remotes/origin'\n",
            "'/content/mecs6616_sp25_project5/mecs6616_sp24_project5/.git/logs/refs/remotes/origin/HEAD' -> '/content/mecs6616_sp24_project5/.git/logs/refs/remotes/origin/HEAD'\n",
            "'/content/mecs6616_sp25_project5/mecs6616_sp24_project5/.git/logs/refs/heads' -> '/content/mecs6616_sp24_project5/.git/logs/refs/heads'\n",
            "'/content/mecs6616_sp25_project5/mecs6616_sp24_project5/.git/logs/refs/heads/main' -> '/content/mecs6616_sp24_project5/.git/logs/refs/heads/main'\n",
            "'/content/mecs6616_sp25_project5/mecs6616_sp24_project5/.git/logs/HEAD' -> '/content/mecs6616_sp24_project5/.git/logs/HEAD'\n",
            "'/content/mecs6616_sp25_project5/mecs6616_sp24_project5/.git/HEAD' -> '/content/mecs6616_sp24_project5/.git/HEAD'\n",
            "'/content/mecs6616_sp25_project5/mecs6616_sp24_project5/README.md' -> '/content/mecs6616_sp24_project5/README.md'\n",
            "'/content/mecs6616_sp25_project5/mecs6616_sp24_project5/arm_dynamics.py' -> '/content/mecs6616_sp24_project5/arm_dynamics.py'\n",
            "'/content/mecs6616_sp25_project5/mecs6616_sp24_project5/arm_dynamics_base.py' -> '/content/mecs6616_sp24_project5/arm_dynamics_base.py'\n",
            "'/content/mecs6616_sp25_project5/mecs6616_sp24_project5/arm_env.py' -> '/content/mecs6616_sp24_project5/arm_env.py'\n",
            "'/content/mecs6616_sp25_project5/mecs6616_sp24_project5/geometry.py' -> '/content/mecs6616_sp24_project5/geometry.py'\n",
            "'/content/mecs6616_sp25_project5/mecs6616_sp24_project5/render.py' -> '/content/mecs6616_sp24_project5/render.py'\n",
            "'/content/mecs6616_sp25_project5/mecs6616_sp24_project5/robot.py' -> '/content/mecs6616_sp24_project5/robot.py'\n",
            "'/content/mecs6616_sp25_project5/mecs6616_sp24_project5/score.py' -> '/content/mecs6616_sp24_project5/score.py'\n",
            "'/content/mecs6616_sp25_project5/README.md' -> '/content/README.md'\n",
            "'/content/mecs6616_sp25_project5/render.py' -> '/content/render.py'\n",
            "'/content/mecs6616_sp25_project5/robot.py' -> '/content/robot.py'\n",
            "'/content/mecs6616_sp25_project5/score.py' -> '/content/score.py'\n"
          ]
        }
      ],
      "source": [
        "# DO NOT CHANGE\n",
        "\n",
        "# copy all needed files into the working directory. This is simply to make accessing files easier\n",
        "!cp -av /content/mecs6616_sp25_project5/* /content/"
      ]
    },
    {
      "cell_type": "code",
      "source": [
        "# DO NOT CHANGE\n",
        "\n",
        "# There will be error messages from this command. You can ignore those error messages\n",
        "# as long as you see \"Successfully installed gym stable-baselines3\" at the end.\n",
        "\n",
        "!pip install wheel==0.38.4\n",
        "!pip install gym stable-baselines3\n",
        "!pip install shimmy>=2.0"
      ],
      "metadata": {
        "id": "qEFlC9hVkRrF",
        "colab": {
          "base_uri": "https://localhost:8080/"
        },
        "outputId": "83ebacde-98bd-44e5-b522-26eca3cd76ed"
      },
      "execution_count": 4,
      "outputs": [
        {
          "output_type": "stream",
          "name": "stdout",
          "text": [
            "Collecting wheel==0.38.4\n",
            "  Using cached wheel-0.38.4-py3-none-any.whl.metadata (2.1 kB)\n",
            "Using cached wheel-0.38.4-py3-none-any.whl (36 kB)\n",
            "Installing collected packages: wheel\n",
            "  Attempting uninstall: wheel\n",
            "    Found existing installation: wheel 0.45.1\n",
            "    Uninstalling wheel-0.45.1:\n",
            "      Successfully uninstalled wheel-0.45.1\n",
            "Successfully installed wheel-0.38.4\n",
            "Requirement already satisfied: gym in /usr/local/lib/python3.11/dist-packages (0.25.2)\n",
            "Collecting stable-baselines3\n",
            "  Downloading stable_baselines3-2.6.0-py3-none-any.whl.metadata (4.8 kB)\n",
            "Requirement already satisfied: numpy>=1.18.0 in /usr/local/lib/python3.11/dist-packages (from gym) (2.0.2)\n",
            "Requirement already satisfied: cloudpickle>=1.2.0 in /usr/local/lib/python3.11/dist-packages (from gym) (3.1.1)\n",
            "Requirement already satisfied: gym-notices>=0.0.4 in /usr/local/lib/python3.11/dist-packages (from gym) (0.0.8)\n",
            "Requirement already satisfied: gymnasium<1.2.0,>=0.29.1 in /usr/local/lib/python3.11/dist-packages (from stable-baselines3) (1.1.1)\n",
            "Requirement already satisfied: torch<3.0,>=2.3 in /usr/local/lib/python3.11/dist-packages (from stable-baselines3) (2.6.0+cu124)\n",
            "Requirement already satisfied: pandas in /usr/local/lib/python3.11/dist-packages (from stable-baselines3) (2.2.2)\n",
            "Requirement already satisfied: matplotlib in /usr/local/lib/python3.11/dist-packages (from stable-baselines3) (3.10.0)\n",
            "Requirement already satisfied: typing-extensions>=4.3.0 in /usr/local/lib/python3.11/dist-packages (from gymnasium<1.2.0,>=0.29.1->stable-baselines3) (4.13.2)\n",
            "Requirement already satisfied: farama-notifications>=0.0.1 in /usr/local/lib/python3.11/dist-packages (from gymnasium<1.2.0,>=0.29.1->stable-baselines3) (0.0.4)\n",
            "Requirement already satisfied: filelock in /usr/local/lib/python3.11/dist-packages (from torch<3.0,>=2.3->stable-baselines3) (3.18.0)\n",
            "Requirement already satisfied: networkx in /usr/local/lib/python3.11/dist-packages (from torch<3.0,>=2.3->stable-baselines3) (3.4.2)\n",
            "Requirement already satisfied: jinja2 in /usr/local/lib/python3.11/dist-packages (from torch<3.0,>=2.3->stable-baselines3) (3.1.6)\n",
            "Requirement already satisfied: fsspec in /usr/local/lib/python3.11/dist-packages (from torch<3.0,>=2.3->stable-baselines3) (2025.3.2)\n",
            "Collecting nvidia-cuda-nvrtc-cu12==12.4.127 (from torch<3.0,>=2.3->stable-baselines3)\n",
            "  Downloading nvidia_cuda_nvrtc_cu12-12.4.127-py3-none-manylinux2014_x86_64.whl.metadata (1.5 kB)\n",
            "Collecting nvidia-cuda-runtime-cu12==12.4.127 (from torch<3.0,>=2.3->stable-baselines3)\n",
            "  Downloading nvidia_cuda_runtime_cu12-12.4.127-py3-none-manylinux2014_x86_64.whl.metadata (1.5 kB)\n",
            "Collecting nvidia-cuda-cupti-cu12==12.4.127 (from torch<3.0,>=2.3->stable-baselines3)\n",
            "  Downloading nvidia_cuda_cupti_cu12-12.4.127-py3-none-manylinux2014_x86_64.whl.metadata (1.6 kB)\n",
            "Collecting nvidia-cudnn-cu12==9.1.0.70 (from torch<3.0,>=2.3->stable-baselines3)\n",
            "  Downloading nvidia_cudnn_cu12-9.1.0.70-py3-none-manylinux2014_x86_64.whl.metadata (1.6 kB)\n",
            "Collecting nvidia-cublas-cu12==12.4.5.8 (from torch<3.0,>=2.3->stable-baselines3)\n",
            "  Downloading nvidia_cublas_cu12-12.4.5.8-py3-none-manylinux2014_x86_64.whl.metadata (1.5 kB)\n",
            "Collecting nvidia-cufft-cu12==11.2.1.3 (from torch<3.0,>=2.3->stable-baselines3)\n",
            "  Downloading nvidia_cufft_cu12-11.2.1.3-py3-none-manylinux2014_x86_64.whl.metadata (1.5 kB)\n",
            "Collecting nvidia-curand-cu12==10.3.5.147 (from torch<3.0,>=2.3->stable-baselines3)\n",
            "  Downloading nvidia_curand_cu12-10.3.5.147-py3-none-manylinux2014_x86_64.whl.metadata (1.5 kB)\n",
            "Collecting nvidia-cusolver-cu12==11.6.1.9 (from torch<3.0,>=2.3->stable-baselines3)\n",
            "  Downloading nvidia_cusolver_cu12-11.6.1.9-py3-none-manylinux2014_x86_64.whl.metadata (1.6 kB)\n",
            "Collecting nvidia-cusparse-cu12==12.3.1.170 (from torch<3.0,>=2.3->stable-baselines3)\n",
            "  Downloading nvidia_cusparse_cu12-12.3.1.170-py3-none-manylinux2014_x86_64.whl.metadata (1.6 kB)\n",
            "Requirement already satisfied: nvidia-cusparselt-cu12==0.6.2 in /usr/local/lib/python3.11/dist-packages (from torch<3.0,>=2.3->stable-baselines3) (0.6.2)\n",
            "Requirement already satisfied: nvidia-nccl-cu12==2.21.5 in /usr/local/lib/python3.11/dist-packages (from torch<3.0,>=2.3->stable-baselines3) (2.21.5)\n",
            "Requirement already satisfied: nvidia-nvtx-cu12==12.4.127 in /usr/local/lib/python3.11/dist-packages (from torch<3.0,>=2.3->stable-baselines3) (12.4.127)\n",
            "Collecting nvidia-nvjitlink-cu12==12.4.127 (from torch<3.0,>=2.3->stable-baselines3)\n",
            "  Downloading nvidia_nvjitlink_cu12-12.4.127-py3-none-manylinux2014_x86_64.whl.metadata (1.5 kB)\n",
            "Requirement already satisfied: triton==3.2.0 in /usr/local/lib/python3.11/dist-packages (from torch<3.0,>=2.3->stable-baselines3) (3.2.0)\n",
            "Requirement already satisfied: sympy==1.13.1 in /usr/local/lib/python3.11/dist-packages (from torch<3.0,>=2.3->stable-baselines3) (1.13.1)\n",
            "Requirement already satisfied: mpmath<1.4,>=1.1.0 in /usr/local/lib/python3.11/dist-packages (from sympy==1.13.1->torch<3.0,>=2.3->stable-baselines3) (1.3.0)\n",
            "Requirement already satisfied: contourpy>=1.0.1 in /usr/local/lib/python3.11/dist-packages (from matplotlib->stable-baselines3) (1.3.2)\n",
            "Requirement already satisfied: cycler>=0.10 in /usr/local/lib/python3.11/dist-packages (from matplotlib->stable-baselines3) (0.12.1)\n",
            "Requirement already satisfied: fonttools>=4.22.0 in /usr/local/lib/python3.11/dist-packages (from matplotlib->stable-baselines3) (4.57.0)\n",
            "Requirement already satisfied: kiwisolver>=1.3.1 in /usr/local/lib/python3.11/dist-packages (from matplotlib->stable-baselines3) (1.4.8)\n",
            "Requirement already satisfied: packaging>=20.0 in /usr/local/lib/python3.11/dist-packages (from matplotlib->stable-baselines3) (24.2)\n",
            "Requirement already satisfied: pillow>=8 in /usr/local/lib/python3.11/dist-packages (from matplotlib->stable-baselines3) (11.2.1)\n",
            "Requirement already satisfied: pyparsing>=2.3.1 in /usr/local/lib/python3.11/dist-packages (from matplotlib->stable-baselines3) (3.2.3)\n",
            "Requirement already satisfied: python-dateutil>=2.7 in /usr/local/lib/python3.11/dist-packages (from matplotlib->stable-baselines3) (2.9.0.post0)\n",
            "Requirement already satisfied: pytz>=2020.1 in /usr/local/lib/python3.11/dist-packages (from pandas->stable-baselines3) (2025.2)\n",
            "Requirement already satisfied: tzdata>=2022.7 in /usr/local/lib/python3.11/dist-packages (from pandas->stable-baselines3) (2025.2)\n",
            "Requirement already satisfied: six>=1.5 in /usr/local/lib/python3.11/dist-packages (from python-dateutil>=2.7->matplotlib->stable-baselines3) (1.17.0)\n",
            "Requirement already satisfied: MarkupSafe>=2.0 in /usr/local/lib/python3.11/dist-packages (from jinja2->torch<3.0,>=2.3->stable-baselines3) (3.0.2)\n",
            "Downloading stable_baselines3-2.6.0-py3-none-any.whl (184 kB)\n",
            "\u001b[2K   \u001b[90m━━━━━━━━━━━━━━━━━━━━━━━━━━━━━━━━━━━━━━━━\u001b[0m \u001b[32m184.5/184.5 kB\u001b[0m \u001b[31m3.7 MB/s\u001b[0m eta \u001b[36m0:00:00\u001b[0m\n",
            "\u001b[?25hDownloading nvidia_cublas_cu12-12.4.5.8-py3-none-manylinux2014_x86_64.whl (363.4 MB)\n",
            "\u001b[2K   \u001b[90m━━━━━━━━━━━━━━━━━━━━━━━━━━━━━━━━━━━━━━━━\u001b[0m \u001b[32m363.4/363.4 MB\u001b[0m \u001b[31m1.3 MB/s\u001b[0m eta \u001b[36m0:00:00\u001b[0m\n",
            "\u001b[?25hDownloading nvidia_cuda_cupti_cu12-12.4.127-py3-none-manylinux2014_x86_64.whl (13.8 MB)\n",
            "\u001b[2K   \u001b[90m━━━━━━━━━━━━━━━━━━━━━━━━━━━━━━━━━━━━━━━━\u001b[0m \u001b[32m13.8/13.8 MB\u001b[0m \u001b[31m92.8 MB/s\u001b[0m eta \u001b[36m0:00:00\u001b[0m\n",
            "\u001b[?25hDownloading nvidia_cuda_nvrtc_cu12-12.4.127-py3-none-manylinux2014_x86_64.whl (24.6 MB)\n",
            "\u001b[2K   \u001b[90m━━━━━━━━━━━━━━━━━━━━━━━━━━━━━━━━━━━━━━━━\u001b[0m \u001b[32m24.6/24.6 MB\u001b[0m \u001b[31m61.6 MB/s\u001b[0m eta \u001b[36m0:00:00\u001b[0m\n",
            "\u001b[?25hDownloading nvidia_cuda_runtime_cu12-12.4.127-py3-none-manylinux2014_x86_64.whl (883 kB)\n",
            "\u001b[2K   \u001b[90m━━━━━━━━━━━━━━━━━━━━━━━━━━━━━━━━━━━━━━━━\u001b[0m \u001b[32m883.7/883.7 kB\u001b[0m \u001b[31m33.8 MB/s\u001b[0m eta \u001b[36m0:00:00\u001b[0m\n",
            "\u001b[?25hDownloading nvidia_cudnn_cu12-9.1.0.70-py3-none-manylinux2014_x86_64.whl (664.8 MB)\n",
            "\u001b[2K   \u001b[90m━━━━━━━━━━━━━━━━━━━━━━━━━━━━━━━━━━━━━━━━\u001b[0m \u001b[32m664.8/664.8 MB\u001b[0m \u001b[31m1.3 MB/s\u001b[0m eta \u001b[36m0:00:00\u001b[0m\n",
            "\u001b[?25hDownloading nvidia_cufft_cu12-11.2.1.3-py3-none-manylinux2014_x86_64.whl (211.5 MB)\n",
            "\u001b[2K   \u001b[90m━━━━━━━━━━━━━━━━━━━━━━━━━━━━━━━━━━━━━━━━\u001b[0m \u001b[32m211.5/211.5 MB\u001b[0m \u001b[31m5.0 MB/s\u001b[0m eta \u001b[36m0:00:00\u001b[0m\n",
            "\u001b[?25hDownloading nvidia_curand_cu12-10.3.5.147-py3-none-manylinux2014_x86_64.whl (56.3 MB)\n",
            "\u001b[2K   \u001b[90m━━━━━━━━━━━━━━━━━━━━━━━━━━━━━━━━━━━━━━━━\u001b[0m \u001b[32m56.3/56.3 MB\u001b[0m \u001b[31m9.3 MB/s\u001b[0m eta \u001b[36m0:00:00\u001b[0m\n",
            "\u001b[?25hDownloading nvidia_cusolver_cu12-11.6.1.9-py3-none-manylinux2014_x86_64.whl (127.9 MB)\n",
            "\u001b[2K   \u001b[90m━━━━━━━━━━━━━━━━━━━━━━━━━━━━━━━━━━━━━━━━\u001b[0m \u001b[32m127.9/127.9 MB\u001b[0m \u001b[31m7.9 MB/s\u001b[0m eta \u001b[36m0:00:00\u001b[0m\n",
            "\u001b[?25hDownloading nvidia_cusparse_cu12-12.3.1.170-py3-none-manylinux2014_x86_64.whl (207.5 MB)\n",
            "\u001b[2K   \u001b[90m━━━━━━━━━━━━━━━━━━━━━━━━━━━━━━━━━━━━━━━━\u001b[0m \u001b[32m207.5/207.5 MB\u001b[0m \u001b[31m4.4 MB/s\u001b[0m eta \u001b[36m0:00:00\u001b[0m\n",
            "\u001b[?25hDownloading nvidia_nvjitlink_cu12-12.4.127-py3-none-manylinux2014_x86_64.whl (21.1 MB)\n",
            "\u001b[2K   \u001b[90m━━━━━━━━━━━━━━━━━━━━━━━━━━━━━━━━━━━━━━━━\u001b[0m \u001b[32m21.1/21.1 MB\u001b[0m \u001b[31m44.8 MB/s\u001b[0m eta \u001b[36m0:00:00\u001b[0m\n",
            "\u001b[?25hInstalling collected packages: nvidia-nvjitlink-cu12, nvidia-curand-cu12, nvidia-cufft-cu12, nvidia-cuda-runtime-cu12, nvidia-cuda-nvrtc-cu12, nvidia-cuda-cupti-cu12, nvidia-cublas-cu12, nvidia-cusparse-cu12, nvidia-cudnn-cu12, nvidia-cusolver-cu12, stable-baselines3\n",
            "  Attempting uninstall: nvidia-nvjitlink-cu12\n",
            "    Found existing installation: nvidia-nvjitlink-cu12 12.5.82\n",
            "    Uninstalling nvidia-nvjitlink-cu12-12.5.82:\n",
            "      Successfully uninstalled nvidia-nvjitlink-cu12-12.5.82\n",
            "  Attempting uninstall: nvidia-curand-cu12\n",
            "    Found existing installation: nvidia-curand-cu12 10.3.6.82\n",
            "    Uninstalling nvidia-curand-cu12-10.3.6.82:\n",
            "      Successfully uninstalled nvidia-curand-cu12-10.3.6.82\n",
            "  Attempting uninstall: nvidia-cufft-cu12\n",
            "    Found existing installation: nvidia-cufft-cu12 11.2.3.61\n",
            "    Uninstalling nvidia-cufft-cu12-11.2.3.61:\n",
            "      Successfully uninstalled nvidia-cufft-cu12-11.2.3.61\n",
            "  Attempting uninstall: nvidia-cuda-runtime-cu12\n",
            "    Found existing installation: nvidia-cuda-runtime-cu12 12.5.82\n",
            "    Uninstalling nvidia-cuda-runtime-cu12-12.5.82:\n",
            "      Successfully uninstalled nvidia-cuda-runtime-cu12-12.5.82\n",
            "  Attempting uninstall: nvidia-cuda-nvrtc-cu12\n",
            "    Found existing installation: nvidia-cuda-nvrtc-cu12 12.5.82\n",
            "    Uninstalling nvidia-cuda-nvrtc-cu12-12.5.82:\n",
            "      Successfully uninstalled nvidia-cuda-nvrtc-cu12-12.5.82\n",
            "  Attempting uninstall: nvidia-cuda-cupti-cu12\n",
            "    Found existing installation: nvidia-cuda-cupti-cu12 12.5.82\n",
            "    Uninstalling nvidia-cuda-cupti-cu12-12.5.82:\n",
            "      Successfully uninstalled nvidia-cuda-cupti-cu12-12.5.82\n",
            "  Attempting uninstall: nvidia-cublas-cu12\n",
            "    Found existing installation: nvidia-cublas-cu12 12.5.3.2\n",
            "    Uninstalling nvidia-cublas-cu12-12.5.3.2:\n",
            "      Successfully uninstalled nvidia-cublas-cu12-12.5.3.2\n",
            "  Attempting uninstall: nvidia-cusparse-cu12\n",
            "    Found existing installation: nvidia-cusparse-cu12 12.5.1.3\n",
            "    Uninstalling nvidia-cusparse-cu12-12.5.1.3:\n",
            "      Successfully uninstalled nvidia-cusparse-cu12-12.5.1.3\n",
            "  Attempting uninstall: nvidia-cudnn-cu12\n",
            "    Found existing installation: nvidia-cudnn-cu12 9.3.0.75\n",
            "    Uninstalling nvidia-cudnn-cu12-9.3.0.75:\n",
            "      Successfully uninstalled nvidia-cudnn-cu12-9.3.0.75\n",
            "  Attempting uninstall: nvidia-cusolver-cu12\n",
            "    Found existing installation: nvidia-cusolver-cu12 11.6.3.83\n",
            "    Uninstalling nvidia-cusolver-cu12-11.6.3.83:\n",
            "      Successfully uninstalled nvidia-cusolver-cu12-11.6.3.83\n",
            "Successfully installed nvidia-cublas-cu12-12.4.5.8 nvidia-cuda-cupti-cu12-12.4.127 nvidia-cuda-nvrtc-cu12-12.4.127 nvidia-cuda-runtime-cu12-12.4.127 nvidia-cudnn-cu12-9.1.0.70 nvidia-cufft-cu12-11.2.1.3 nvidia-curand-cu12-10.3.5.147 nvidia-cusolver-cu12-11.6.1.9 nvidia-cusparse-cu12-12.3.1.170 nvidia-nvjitlink-cu12-12.4.127 stable-baselines3-2.6.0\n"
          ]
        }
      ]
    },
    {
      "cell_type": "markdown",
      "source": [
        "# Part 1: Implement DQN\n",
        "\n",
        "For this part, you will implement DQN from scratch. You SHOULD NOT use any RL libraries."
      ],
      "metadata": {
        "id": "-KNg9fzU5Un7"
      }
    },
    {
      "cell_type": "markdown",
      "metadata": {
        "id": "t-JvzRuwNsYz"
      },
      "source": [
        "## Starter Code Explanation\n",
        "In addition to code you are already familiar with from the previous project (i.e. arm dynamics, etc.) we are providing an \"Environment\" in the `ArmEnv` class. The environment \"wraps around\" the arm dynamics and provides the key functions that an RL algorithm expects: reset(...) and step(...). The implementation of `ArmEnv` follows the [OpenAI Gym](https://www.gymlibrary.dev/api/core/) API standard. It is a standard that is accepeted by many RL libraries and allows for our problem to be easily solved with various RL libraries. Take a moment to familiarize yourself with these functions! See [here](https://www.gymlibrary.dev/api/core/) for more information on the definition of the reset(...) and step(...) functions.\n",
        "\n",
        "Important notes:\n",
        "\n",
        "* The ArmEnv expects an action similar to the one used previously: a vector with a torque for every arm joint. Thus, the native action space for this environment is high-dimensional, and continuous. DQN will require an action space that is 1-dimensional and discrete. You will need to convert between these. For example, you can have an action space of [0, 1, 2,] where each number just represents the identity of an action candidate, and a conversion dictionary {0: [-0.1, -0.1], 1: [0.1, 0.1], 2: [0, 0]}. Then, when the Q network output an action 1, it will be converted into [0.1, 0.1] and used by the environment. Note that this is just an example method to implement the conversion and you do not have to follow the same procedure.\n",
        "* The observation provided by the environment will comprise the same state vector as before, to which we append the current position of the end_effector and the goal for the end-effector. Since your policy must learn to reach arbitrary goals, the goal must be provided as part of the observation. So the observation will consist of 8 values: 4 for the state, 2 for the pos_ee and 2 for the goal.\n",
        "* The maximum episode length of the environment is 200 steps. Each step is simulated for 0.01 second. This should be used for both training and testing.\n",
        "* The reward function of this environment is by default r(s, a) = - dist(pos_ee, goal)^2 where represents the negative square of L2 distance between the current position of the end-effector and the goal position."
      ]
    },
    {
      "cell_type": "markdown",
      "source": [
        "### Arm Environment Example\n",
        "You are encouraged to view the `arm_env.py` file to understand the `random_goal()`, `reset()` and `step()`  functions but do not modify the file.\n",
        "\n",
        "The `env.reset()` method, will reset the arm in the vertically downwards position and set a new random goal by calling the `random_goal()` method. By understanding how the goals are set you could guide your training in that direction. You can also provide your own goal as a (2,1) array to the reset function as an argument. This could come handy later when training the model.\n",
        "\n",
        "The `env.step()` function takes an action as a (2,1) shaped array and outputs the next observation, reward, done and info. `info` is a dictionary with pos_ee and vel_ee values. This can come handy if you attempt to do some reward engineering.\n",
        "\n",
        "The cell below provides an example of random policy interacting with the ArmEnv for 50 steps (0.5 seconds)"
      ],
      "metadata": {
        "id": "gw8H0PZcSv7F"
      }
    },
    {
      "cell_type": "code",
      "execution_count": 5,
      "metadata": {
        "id": "o6r9kJ5jpeds",
        "colab": {
          "base_uri": "https://localhost:8080/",
          "height": 830
        },
        "outputId": "c1fecd08-36b9-4d28-8d9a-b123d5557503"
      },
      "outputs": [
        {
          "output_type": "display_data",
          "data": {
            "text/plain": [
              "<Figure size 1000x1000 with 1 Axes>"
            ],
            "image/png": "[encoded data removed]"
          },
          "metadata": {}
        }
      ],
      "source": [
        "from render import Renderer\n",
        "from arm_env import ArmEnv\n",
        "from robot import Robot\n",
        "from arm_dynamics import ArmDynamics\n",
        "import numpy as np\n",
        "\n",
        "# DO NOT CHANGE arm parameters\n",
        "arm = Robot(\n",
        "        ArmDynamics(\n",
        "            num_links=2,\n",
        "            link_mass=0.1,\n",
        "            link_length=1,\n",
        "            joint_viscous_friction=0.1,\n",
        "            dt=0.01,\n",
        "\t    \t\t\tgravity=False\n",
        "        )\n",
        "    )\n",
        "arm.reset()\n",
        "# ------------------\n",
        "\n",
        "\n",
        "# Arm environment - An “Environment” is a way to standardize a problem for RL libraries\n",
        "\"\"\"\n",
        "class ArmEnv(gym.Env):\n",
        "\n",
        "    - def __init__(self, arm, gui=False):\n",
        "        - set obs space, goal, action space\n",
        "        - step duration = 0.01\n",
        "        - episode length = 200\n",
        "\n",
        "    - def set_goal(self, goal):\n",
        "        - call this function to set the goal for arm during testing\n",
        "\n",
        "    - def step(self, action):\n",
        "        - takes an action as a (2,1) shaped array\n",
        "        - executes an action and returns obs, reward, done, info\n",
        "            - Action space: continuous torques --> must map from discrete action indices manually\n",
        "        - tells you the next observation\n",
        "        - In this project, observation = state + goal information (+ ee position)\n",
        "            - Obs space - 8 values: 4 for the state, 2 for the pos_ee and 2 for the goal\n",
        "        - info is a dictionary with pos_ee and vel_ee values --> use for reward engineering\n",
        "        - computes the reward function: negative squared distance between end-effector and goal\n",
        "            - reward = - dist(pos_ee, goal)^2\n",
        "        - computes the next step of the robotic arm - advances the environment, checks if episode is “done”\n",
        "        - Needs a continuous action, so always convert discrete → continuous\n",
        "\n",
        "    - def reset(self, goal=None):\n",
        "        - resets the robotic arm in a vertically downwards pos\n",
        "        - starts a new episode\n",
        "        - randomizes goal if none given\n",
        "\n",
        "    - def get_obs(self):\n",
        "        - returns the current observation of the robotic arm\n",
        "        - uses the state and pos_ee to compute the observation\n",
        "\n",
        "    - def seed(self, seed=None):\n",
        "        - for repeatability stochasticity\n",
        "\"\"\"\n",
        "env = ArmEnv(arm, gui=True)\n",
        "\n",
        "# Passing our own defined goal to the reset function\n",
        "#goal = np.array([[0.5], [-1.5]])\n",
        "#obs = env.reset(goal)\n",
        "\n",
        "# Resetting the environment without the goal will set a random goal position\n",
        "obs = env.reset() # reset the arm in the vertically downwards position and set a new random goal by calling the random_goal() method\n",
        "\n",
        "# random policy interacting with the ArmEnv for 50 steps (0.5 seconds)\n",
        "for _ in range(50):\n",
        "    rand_action = np.random.uniform(-1.5, 1.5, (2,1))\n",
        "    obs, reward, done, info = env.step(rand_action) # takes an action as a (2,1) shaped array and outputs the next observation, reward, done and info"
      ]
    },
    {
      "cell_type": "markdown",
      "metadata": {
        "id": "4jmXTT_ngdqG"
      },
      "source": [
        "### QNetwork\n",
        "This class defines the architecture of your network. You must fill in the __init__(...) function which defines your network, and the forward(...) function which performs the forward pass.\n",
        "\n",
        "Your action space should be discrete, with whatever cardinality you decide. The size of the output layer of your Q-Network should thus be the same as the cardinality of your action space. When selecting an action, a policy must choose the one that has the highest estimated Q-value for the current state. As part of the QNetwork class, we are providing the function select_discrete_action(...) which does exactly that.\n",
        "\n",
        "The arm environment itself however expects a 2-dimensional, continuous action vector. Therefore, when it comes to send an action to the environment, you must provide the kind of action the environment expects. It is your job to determine how to convert between the discrete action space of your Q-Network and the continuous action space of the arm. You do this by filling in the action_discrete_to_continuous(...) function in your QNetwork. You can expect to call the step function of the environment like this:\n",
        "\n",
        "```\n",
        "self.env.step(self.q_network.action_discrete_to_continuous(discrete_action))\n",
        "```"
      ]
    },
    {
      "cell_type": "code",
      "execution_count": 28,
      "metadata": {
        "id": "7UyguLRKgf_I"
      },
      "outputs": [],
      "source": [
        "import torch\n",
        "import torch.nn as nn\n",
        "import torch.nn.functional as F\n",
        "import numpy as np\n",
        "\n",
        "\"\"\"\n",
        "Use DQN (Deep Q-Network) and PPO (Proximal Policy Optimization) to solve a robot reaching task with a 2-link arm\n",
        "\n",
        "You will build and train a neural network to control the arm to reach a goal position\n",
        "    - Build your own agent with discrete actions → continuous control\n",
        "    - It needs to choose actions and convert discrete actions to continuous torques for the robot (conversion dictionary)\n",
        "    - Use a neural network to satisfy the Bellman equations\n",
        "        - value function (deterministic and non-deterministic) is expected value of return if we follow the policy --> introduce stochasticity\n",
        "        - a solved value function that is solved from Bellman equations has the future \"baked in\"\n",
        "        - use Bellman equations to update the value of each square depending on its neighbors\n",
        "            - repeatedly do this and after enough iterations the model will converge\n",
        "        - once the Bellman equation is satisfied for every state, then the value function is complete\n",
        "\n",
        "Q-learning:\n",
        "    - q(s,a)=(1-alpha)q(s,a) + alpha[r(s,a)+gamma*v(s')]\n",
        "    - q(s,a)=(1-alpha)q(s,a) + alpha[r(s,a)+gamma*max_a'(q(s',a'))]\n",
        "    - write the values in a table\n",
        "    - let the agent operate in the table\n",
        "    - use a greedy policy to choose the best action\n",
        "    - update the table from updated rule that comes from the Bellman equations\n",
        "        - use the Bellman equations to update the value of each square depending on its neighbors\n",
        "        - an update rule based on a Bellman equation is used to update the table as the agent gains experience\n",
        "    - after a few iterations, the agent figures out that if they follow a good path, they will get good results\n",
        "    - Problem: policy is exploring what it knows, but it has stopped exploring for an optimal path\n",
        "    - Solution: add random exploration with ε probability at each step --> ε-greedy policy\n",
        "    - Provable to converge to real q*(optimal action-value function) as long as policy allows for some random \"exploration\"\n",
        "        - attempts to come up with better and better estimates of q* by exploring the world\n",
        "        - current estimate of q* provided by:\n",
        "            - exhaustive lookup table (Q-learning)\n",
        "            - deep neural network (deep Q-learning)\n",
        "        - every action taken gives us new information to update estimate of q*\n",
        "        - follow ε-greedy policy with respect to current estimate of q* (greedy policy is optimal, but ε is needed to ensure exploration)\n",
        "    - Can turn off exploration once we believe the algorithm has converged and start \"exploiting\" the policy\n",
        "    - Key concepts in RL: exploration and exploitation\n",
        "\n",
        "Goal: Learn a Q-function that estimates expected rewards for each action\n",
        "\n",
        "Input: the state (positions, velocities, and goal info)\n",
        "Output: a Q-value for each discrete action\n",
        "\n",
        "Loss function:  L = Q(s_t, a_t) - [r_t + 𝛾 * max_(a’)Q(s_t+1, a)]\n",
        "    - Loss function = what i knew before - what i just learned\n",
        "    - Q(s,a): Value of taking action a in state s\n",
        "    - γ (gamma): Discount factor for future rewards\n",
        "\"\"\"\n",
        "\n",
        "class QNetwork(nn.Module):\n",
        "\n",
        "  def __init__(self, env):\n",
        "\n",
        "    super(QNetwork, self).__init__()\n",
        "\n",
        "    \"\"\"\n",
        "    Goal: Define network architecture (input layer, hidden layers, output layer)\n",
        "\n",
        "    Input size = length of observation (state + goal info)\n",
        "    Output size = number of discrete actions you define\n",
        "    Some hidden layers (usually 2-3 fully connected layers)\n",
        "    \"\"\"\n",
        "\n",
        "    obs_dim = env.observation_space.shape[0]  # Obs space - 8 values: 4 for the state, 2 for the pos_ee and 2 for the goal\n",
        "    num_actions = 5  # Choose the number of discrete actions\n",
        "\n",
        "    self.fc1 = nn.Linear(obs_dim, 64)     # first fully connected layer\n",
        "    self.fc2 = nn.Linear(64, 64)          # second fully connected layer\n",
        "    self.fc3 = nn.Linear(64, num_actions) # output layer\n",
        "\n",
        "    #self.fc1 = nn.Linear(obs_dim, 64)   # input layer\n",
        "    #self.fc2 = nn.Linear(32, 64)        # second hidden layer\n",
        "    #self.fc3 = nn.Linear(64, 128)       # third hidden layer\n",
        "    #self.fc4 = nn.Linear(128, 64)       # fourth hidden layer\n",
        "    #self.fc5 = nn.Linear(64, 32)        # fifth hidden layer\n",
        "    #self.fc6 = nn.Linear(32, num_actions) # output layer (one q-value per action)\n",
        "\n",
        "  def forward(self, x, device):\n",
        "\n",
        "    x = torch.tensor(x, dtype=torch.float32).to(device) # convert x to a tensor\n",
        "    x = torch.relu(self.fc1(x))         # activation function for first layer\n",
        "    x = torch.relu(self.fc2(x))         # activation function for second layer\n",
        "    x = self.fc3(x)                     # no activation for output layer --> raw scores for Q-values\n",
        "\n",
        "    return x\n",
        "\n",
        "    #x = torch.relu(self.fc1(x))\n",
        "    #x = torch.relu(self.fc2(x))\n",
        "    #x = torch.relu(self.fc3(x))\n",
        "    #x = torch.relu(self.fc4(x))\n",
        "    #x = torch.relu(self.fc5(x))\n",
        "    #q_values = self.fc6(x)  # actions\n",
        "\n",
        "    #return q_values\n",
        "\n",
        "  def select_discrete_action(self, obs, device):\n",
        "\n",
        "    \"\"\"\n",
        "    Run a forward pass\n",
        "    Pick the action (index) with the highest Q-value\n",
        "    \"\"\"\n",
        "\n",
        "    # Put the observation through the network to estimate q values for all possible discrete actions\n",
        "    est_q_vals = self.forward(obs.reshape((1,) + obs.shape), device)\n",
        "\n",
        "    # Choose the discrete action with the highest estimated q value\n",
        "    discrete_action = torch.argmax(est_q_vals, dim=1).tolist()[0]\n",
        "\n",
        "    return discrete_action\n",
        "\n",
        "  def action_discrete_to_continuous(self, discrete_action):\n",
        "\n",
        "    \"\"\"\n",
        "    - Convert between the discrete action space of your Q-Network and the continuous action space of the robotic arm\n",
        "    - Conversion dictionary\n",
        "    - Map a discrete action index to a real torque [μ_1, μ_2]\n",
        "    - Mapping:\n",
        "        - Choose a small number of discrete actions\n",
        "        - Manually define what each discrete action means in terms of torques\n",
        "    \"\"\"\n",
        "\n",
        "    # Conversion dictionary\n",
        "    torque_candidates = {\n",
        "        0: [-0.1, -0.1],\n",
        "        1: [0.1, 0.1],\n",
        "        2: [0.1, -0.1],\n",
        "        3: [-0.1, 0.1],\n",
        "        4: [0, 0]\n",
        "    }\n",
        "    action = np.array(torque_candidates[discrete_action]).reshape((2,1))\n",
        "\n",
        "    return action"
      ]
    },
    {
      "cell_type": "code",
      "source": [
        "# Verify QNetwork\n",
        "env = ArmEnv(arm)\n",
        "device = torch.device('cpu')\n",
        "\n",
        "qnet = QNetwork(env)\n",
        "obs = env.reset()   # sets random goal\n",
        "obs = torch.tensor(obs, dtype=torch.float32)\n",
        "\n",
        "discrete_action = qnet.select_discrete_action(obs, device)\n",
        "continuous_action = qnet.action_discrete_to_continuous(discrete_action)\n",
        "\n",
        "print(\"Discrete action:\", discrete_action)\n",
        "print(\"Continuous torque:\", continuous_action)"
      ],
      "metadata": {
        "colab": {
          "base_uri": "https://localhost:8080/"
        },
        "id": "C_mOn1whxqEE",
        "outputId": "7ff0ea74-8e09-4d7f-a6b8-ca5d543e5a72"
      },
      "execution_count": 7,
      "outputs": [
        {
          "output_type": "stream",
          "name": "stdout",
          "text": [
            "Discrete action: 5\n",
            "Continuous torque: [[0.]\n",
            " [1.]]\n"
          ]
        },
        {
          "output_type": "stream",
          "name": "stderr",
          "text": [
            "/content/geometry.py:5: DeprecationWarning: Conversion of an array with ndim > 0 to a scalar is deprecated, and will error in future. Ensure you extract a single element from your array before performing this operation. (Deprecated NumPy 1.25.)\n",
            "  R[0,0] = np.cos(theta)\n",
            "<ipython-input-6-dbc0cbc65c0e>:82: UserWarning: To copy construct from a tensor, it is recommended to use sourceTensor.clone().detach() or sourceTensor.clone().detach().requires_grad_(True), rather than torch.tensor(sourceTensor).\n",
            "  x = torch.tensor(x, dtype=torch.float32).to(device) # convert x to a tensor\n"
          ]
        }
      ]
    },
    {
      "cell_type": "markdown",
      "source": [
        "We provide you with code to use the replay buffer in your RL implementation. You do not need to change the ReplayBuffer class.\n",
        "```\n",
        "rb = ReplayBuffer()\n",
        "```\n",
        "After creating a ReplayBuffer object you can add samples in the buffer using `put()`:\n",
        "```\n",
        "rb.put((obs, action, reward, next_obs, done))\n",
        "```\n",
        "Take random samples from the buffer using:\n",
        "```\n",
        "obs, actions, rewards, next_obses, dones = rb.sample(batch_size)\n",
        "```\n"
      ],
      "metadata": {
        "id": "IUjAeQcPdsGR"
      }
    },
    {
      "cell_type": "code",
      "execution_count": 8,
      "metadata": {
        "id": "q7NytRAXtYkE"
      },
      "outputs": [],
      "source": [
        "import collections\n",
        "import random\n",
        "import numpy as np\n",
        "\n",
        "\n",
        "class ReplayBuffer():\n",
        "    def __init__(self, buffer_limit):\n",
        "        self.buffer = collections.deque(maxlen=buffer_limit)\n",
        "\n",
        "    def put(self, transition):\n",
        "        self.buffer.append(transition)\n",
        "\n",
        "    def sample(self, n):\n",
        "        mini_batch = random.sample(self.buffer, n)\n",
        "        s_lst, a_lst, r_lst, s_prime_lst, done_mask_lst = [], [], [], [], []\n",
        "\n",
        "        for transition in mini_batch:\n",
        "            s, a, r, s_prime, done_mask = transition\n",
        "            s_lst.append(s)\n",
        "            a_lst.append(a)\n",
        "            r_lst.append(r)\n",
        "            s_prime_lst.append(s_prime)\n",
        "            done_mask_lst.append(done_mask)\n",
        "\n",
        "        return np.array(s_lst), np.array(a_lst), \\\n",
        "               np.array(r_lst), np.array(s_prime_lst), \\\n",
        "               np.array(done_mask_lst)"
      ]
    },
    {
      "cell_type": "markdown",
      "source": [
        "### TrainDQN\n",
        "Here, you must fill in the train(...) function that actually trains your network.\n",
        "\n",
        "We are providing a helper function called save_model(...) that will save the current Q-network. Use this as you see fit.\n",
        "\n",
        "To set one network equal to another one, you can use code like this:\n",
        "```\n",
        "target_network.load_state_dict(self.q_network.state_dict())\n",
        "```\n",
        "\n",
        "If you would like to be graded with a specific seed for the random number generators, make sure to change the default seed in the initialization of the TrainDQN class.\n",
        "\n",
        "The time taken to train the model will depend mainly on how big is your model architecture and the number of episodes you run the training for. As a reference, the time taken to train a model on 1500 episodes, which passed all evaluation metrics was about an hour.\n",
        "* Reference value for clipping the gradient value as mentioned in class: 0.2\n",
        "* Reference value for a typical size of Replay Buffer: >10k\n",
        "* Reference value for batch size while training: 64 - 512\n",
        "\n",
        "Note that these are just reference values and larger is not always better as it may slow things down.\n",
        "\n",
        "It is good practice in RL to ensure simpler things are working before complicating environments or training techniques.\n",
        "\n",
        "If you think your training method is not working at all, you could pass a fixed goal to the `env.reset()` method during the training loop to ensure that your model is learning."
      ],
      "metadata": {
        "id": "pxVawoBLe3bd"
      }
    },
    {
      "cell_type": "code",
      "execution_count": 25,
      "metadata": {
        "id": "EwS8xVR7tbeQ"
      },
      "outputs": [],
      "source": [
        "import time\n",
        "from render import Renderer\n",
        "from arm_env import ArmEnv\n",
        "import numpy as np\n",
        "from math import dist\n",
        "import os\n",
        "import torch\n",
        "import torch.nn as nn\n",
        "import torch.nn.functional as F\n",
        "import random\n",
        "import torch.optim as optim\n",
        "\n",
        "\n",
        "def linear_decay(start, end, step, decay_rate):\n",
        "    return max(end, start - step * decay_rate)\n",
        "\n",
        "class TrainDQN:\n",
        "\n",
        "    def __init__(self, env, seed=42):\n",
        "\n",
        "        torch.manual_seed(seed)\n",
        "        np.random.seed(seed)\n",
        "        self.env = env\n",
        "        self.device = torch.device('cpu')\n",
        "        self.q_network = QNetwork(env).to(self.device)\n",
        "        self.target_network = QNetwork(env).to(self.device)\n",
        "        self.target_network.load_state_dict(self.q_network.state_dict())\n",
        "\n",
        "        # Adam optimizer\n",
        "        self.optimizer = torch.optim.Adam(self.q_network.parameters(), lr=1e-3)\n",
        "\n",
        "    def save_model(self, episode_num, save_dir='models'):\n",
        "\n",
        "        timestr = time.strftime(\"%Y-%m-%d_%H-%M-%S\")\n",
        "        model_dir = os.path.join(save_dir, timestr)\n",
        "        if not os.path.exists(os.path.join(model_dir)):\n",
        "          os.makedirs(os.path.join(model_dir))\n",
        "        savepath = os.path.join(model_dir, f'q_network_ep_{episode_num:04d}.pth')\n",
        "        torch.save(self.q_network.state_dict(), savepath)\n",
        "        print(f'model saved to {savepath}\\n')\n",
        "\n",
        "    def train(self):\n",
        "\n",
        "        # Initialize constants\n",
        "        num_episodes = 1500\n",
        "        max_steps = 200\n",
        "        batch_size = 64\n",
        "        buffer_size = 10000\n",
        "        gamma = 0.99\n",
        "        target_update_freq = 10\n",
        "\n",
        "        # Replay buffer\n",
        "        rb = ReplayBuffer(buffer_size)\n",
        "\n",
        "        # Linear decay\n",
        "        epsilon_start = 1.0\n",
        "        epsilon_end = 0.01\n",
        "        epsilon_decay = 0.995\n",
        "\n",
        "        global_step = 0\n",
        "\n",
        "        \"\"\"\n",
        "        Q-learning:\n",
        "            - q(s,a)=(1-alpha)q(s,a) + alpha[r(s,a)+gamma*v(s')]=(1-alpha)q(s,a) + alpha[r(s,a)+gamma*max_a'(q(s',a'))]\n",
        "            - use a greedy policy to choose the best action\n",
        "            - update the table\n",
        "            - after a few iterations, the agent figures out that if they follow a good path, they will get good results\n",
        "            - policy is exploring what it knows, but it has stopped exploring for an optimal path\n",
        "            - solution: add random exploration with ε probability at each step --> ε-greedy policy\n",
        "            - provable to converge to real q* as long as policy allows for some random \"exploration\"\n",
        "            - can turn off exploration once we believe the algorithm has converged and start \"exploiting\" the policy\n",
        "\n",
        "        Deep Q-Learning:\n",
        "            Initialize action-value function Q with random weights\n",
        "            for episode = 1,M do:\n",
        "                Initialize s_1=x_1 (image in start state)\n",
        "                for t=1,T do:\n",
        "                    With probability ε, a_t=random; otherwise a_t=max_a(Q(s_t,a))\n",
        "                    Execute a_t and observe reward r_t, next image x_t+1\n",
        "                    Compute loss L = Q(s_t, a_t) - [r_t + 𝛾 * max_(a’)Q(s_t+1, a)]\n",
        "                    Perform gradient descent step on Q according to loss L\n",
        "                    Set s_t=s_t+1\n",
        "                end for\n",
        "            end for\n",
        "        \"\"\"\n",
        "\n",
        "        \"\"\"Initialize action-value function Q with random weights - class QNetwork(nn.Module) from before\"\"\"\n",
        "\n",
        "        for episode in range(1, num_episodes + 1):\n",
        "\n",
        "            \"\"\"Initialize s_1 = x_1 (image in start state) - at the beginning of each episode, reset the environment and get the initial observation\"\"\"\n",
        "            # obs is the initial observation x_1, which becomes the starting state s_1\n",
        "            obs = self.env.reset()  # start new episode and randomize goal if given none\n",
        "            obs = torch.tensor(obs, dtype=torch.float32)  # convert to a tensor\n",
        "\n",
        "            #total_steps = 0\n",
        "            total_loss = 0\n",
        "            episode_reward = 0\n",
        "\n",
        "            for t in range(1, max_steps + 1):\n",
        "\n",
        "                # Epsilon-greedy exploration\n",
        "                epsilon = linear_decay(epsilon_start, epsilon_end, global_step, epsilon_decay)\n",
        "\n",
        "                \"\"\"ε-greedy action selection - use a greedy policy to choose the best action\"\"\"\n",
        "                # Exploration - with probability ε, select a random action\n",
        "                if random.random() < epsilon:\n",
        "                    action = random.randint(0, self.q_network.fc3.out_features - 1)\n",
        "                # Exploitation - with probability ε-1, select best action using the Q-network\n",
        "                else:\n",
        "                    with torch.no_grad():\n",
        "                        q_values = self.q_network(obs.unsqueeze(0), self.device)\n",
        "                        action = torch.argmax(q_values).item()\n",
        "\n",
        "                \"\"\"Execute action a_t and observe reward r_t, next state (next image x_t+1)\"\"\"\n",
        "                # Execute a_t\n",
        "                continuous_action = self.q_network.action_discrete_to_continuous(action)\n",
        "\n",
        "                # Observe reward r_t\n",
        "                next_obs, reward, done, info = self.env.step(continuous_action)\n",
        "\n",
        "                # Next obs (image x_t+1)\n",
        "                next_obs_tensor = torch.tensor(next_obs, dtype=torch.float32).to(self.device)\n",
        "\n",
        "                # Done\n",
        "                done_mask = 0.0 if done else 1.0  # 0 if terminal state, 1 otherwise\n",
        "\n",
        "                # Store the next steps - transition\n",
        "                transition = (obs.cpu().numpy, continuous_action, reward, next_obs_tensor.cpu().numpy(), done_mask)\n",
        "\n",
        "                # Save this transition in the replay buffer (for experience replay)\n",
        "                rb.put(transition)  # After creating a ReplayBuffer object you can add samples in the buffer using put()\n",
        "\n",
        "                episode_reward += reward\n",
        "                obs = next_obs_tensor\n",
        "                global_step += 1\n",
        "\n",
        "                \"\"\"Compute loss L = Q(s_t, a_t) - [r_t + 𝛾 * max_(a’)Q(s_t+1, a)]\n",
        "                - MSE loss between the Q-value of the current state-action pair (predicted by q_network)\n",
        "                - and the target (which is the reward plus discovered max Q-value of next state from target_network)\"\"\"\n",
        "\n",
        "                # Training Step - start training when buffer has enough samples\n",
        "                if len(rb.buffer) >= batch_size:\n",
        "\n",
        "                    states, continuous_actions, rewards, next_states, dones = rb.sample(batch_size)\n",
        "\n",
        "                    # Convert to tensors\n",
        "                    states = torch.tensor(np.array(states), dtype=torch.float32, device=self.device)\n",
        "                    continuous_actions = torch.tensor(continuous_actions, dtype=torch.long, device=self.device).unsqueeze(1)\n",
        "                    rewards = torch.tensor(rewards, dtype=torch.float32, device=self.device).unsqueeze(1)\n",
        "                    next_states = torch.tensor(np.array(next_states), dtype=torch.float32, device=self.device)\n",
        "                    dones = torch.tensor(dones, dtype=torch.float32, device=self.device).unsqueeze(1)\n",
        "\n",
        "                    # Compute Q(s_t, a_t) from the main Q-network\n",
        "                    q_values = self.q_network(states).gather(1, continuous_actions)\n",
        "\n",
        "                    # Compute the target value (Target Q: r + gamma * max(Q(s',a'))) using target_network\n",
        "                    with torch.no_grad():\n",
        "                        next_q_values = self.target_network(next_states)              # [1, num_actions]\n",
        "                        max_next_q_value = next_q_values.max(1)[0].unsqueeze(1)       # [1, 1]\n",
        "                        target_q_values = rewards + gamma * max_next_q_value * dones  # [1, 1]\n",
        "\n",
        "                    # Compute the Loss (MSE)\n",
        "                    loss = F.mse_loss(q_values, target_q_values)\n",
        "\n",
        "                    \"\"\"Perform gradient descent step on Q according to loss L\"\"\"\n",
        "                    self.optimizer.zero_grad()  # Reset gradients\n",
        "                    loss.backward()             # Compute gradients via backpropagation\n",
        "                    nn.utils.clip_grad_norm_(self.q_network.parameters(), max_norm=0.2)  # Gradient clipping\n",
        "                    self.optimizer.step()       # Apply gradients to update Q-network weights\n",
        "                    total_loss += loss.item()\n",
        "\n",
        "                if done:\n",
        "                    break\n",
        "\n",
        "            # Update target network\n",
        "            if episode % target_update_freq == 0:\n",
        "                self.target_network.load_state_dict(self.q_network.state_dict())\n",
        "                #print(f\"Episode {episode} / {num_episodes} | Target network updated.\")\n",
        "\n",
        "            # Save model every 100 episodes\n",
        "            if episode % 100 == 0:\n",
        "                self.save_model(episode)\n",
        "\n",
        "            print(f\"Episode {episode} / {num_episodes} | Loss: {loss.item():.4f} | Reward: {episode_reward:.2f} | Epsilon: {epsilon:.3f}\")"
      ]
    },
    {
      "cell_type": "code",
      "execution_count": 27,
      "metadata": {
        "id": "sEHSV1Q1BT1t",
        "colab": {
          "base_uri": "https://localhost:8080/",
          "height": 363
        },
        "outputId": "aaa4c3b2-0cef-4416-e10c-dfde009f9d97"
      },
      "outputs": [
        {
          "output_type": "stream",
          "name": "stderr",
          "text": [
            "<ipython-input-6-dbc0cbc65c0e>:82: UserWarning: To copy construct from a tensor, it is recommended to use sourceTensor.clone().detach() or sourceTensor.clone().detach().requires_grad_(True), rather than torch.tensor(sourceTensor).\n",
            "  x = torch.tensor(x, dtype=torch.float32).to(device) # convert x to a tensor\n"
          ]
        },
        {
          "output_type": "error",
          "ename": "TypeError",
          "evalue": "can't convert np.ndarray of type numpy.object_. The only supported types are: float64, float32, float16, complex64, complex128, int64, int32, int16, int8, uint64, uint32, uint16, uint8, and bool.",
          "traceback": [
            "\u001b[0;31m---------------------------------------------------------------------------\u001b[0m",
            "\u001b[0;31mTypeError\u001b[0m                                 Traceback (most recent call last)",
            "\u001b[0;32m<ipython-input-27-91b80d239a67>\u001b[0m in \u001b[0;36m<cell line: 0>\u001b[0;34m()\u001b[0m\n\u001b[1;32m     20\u001b[0m \u001b[0;34m\u001b[0m\u001b[0m\n\u001b[1;32m     21\u001b[0m \u001b[0;31m# Call your trin function here\u001b[0m\u001b[0;34m\u001b[0m\u001b[0;34m\u001b[0m\u001b[0m\n\u001b[0;32m---> 22\u001b[0;31m \u001b[0mtqdn\u001b[0m\u001b[0;34m.\u001b[0m\u001b[0mtrain\u001b[0m\u001b[0;34m(\u001b[0m\u001b[0;34m)\u001b[0m\u001b[0;34m\u001b[0m\u001b[0;34m\u001b[0m\u001b[0m\n\u001b[0m",
            "\u001b[0;32m<ipython-input-25-f1a3acff7b79>\u001b[0m in \u001b[0;36mtrain\u001b[0;34m(self)\u001b[0m\n\u001b[1;32m    146\u001b[0m \u001b[0;34m\u001b[0m\u001b[0m\n\u001b[1;32m    147\u001b[0m                     \u001b[0;31m# Convert to tensors\u001b[0m\u001b[0;34m\u001b[0m\u001b[0;34m\u001b[0m\u001b[0m\n\u001b[0;32m--> 148\u001b[0;31m                     \u001b[0mstates\u001b[0m \u001b[0;34m=\u001b[0m \u001b[0mtorch\u001b[0m\u001b[0;34m.\u001b[0m\u001b[0mtensor\u001b[0m\u001b[0;34m(\u001b[0m\u001b[0mnp\u001b[0m\u001b[0;34m.\u001b[0m\u001b[0marray\u001b[0m\u001b[0;34m(\u001b[0m\u001b[0mstates\u001b[0m\u001b[0;34m)\u001b[0m\u001b[0;34m,\u001b[0m \u001b[0mdtype\u001b[0m\u001b[0;34m=\u001b[0m\u001b[0mtorch\u001b[0m\u001b[0;34m.\u001b[0m\u001b[0mfloat32\u001b[0m\u001b[0;34m,\u001b[0m \u001b[0mdevice\u001b[0m\u001b[0;34m=\u001b[0m\u001b[0mself\u001b[0m\u001b[0;34m.\u001b[0m\u001b[0mdevice\u001b[0m\u001b[0;34m)\u001b[0m\u001b[0;34m\u001b[0m\u001b[0;34m\u001b[0m\u001b[0m\n\u001b[0m\u001b[1;32m    149\u001b[0m                     \u001b[0mcontinuous_actions\u001b[0m \u001b[0;34m=\u001b[0m \u001b[0mtorch\u001b[0m\u001b[0;34m.\u001b[0m\u001b[0mtensor\u001b[0m\u001b[0;34m(\u001b[0m\u001b[0mcontinuous_actions\u001b[0m\u001b[0;34m,\u001b[0m \u001b[0mdtype\u001b[0m\u001b[0;34m=\u001b[0m\u001b[0mtorch\u001b[0m\u001b[0;34m.\u001b[0m\u001b[0mlong\u001b[0m\u001b[0;34m,\u001b[0m \u001b[0mdevice\u001b[0m\u001b[0;34m=\u001b[0m\u001b[0mself\u001b[0m\u001b[0;34m.\u001b[0m\u001b[0mdevice\u001b[0m\u001b[0;34m)\u001b[0m\u001b[0;34m.\u001b[0m\u001b[0munsqueeze\u001b[0m\u001b[0;34m(\u001b[0m\u001b[0;36m1\u001b[0m\u001b[0;34m)\u001b[0m\u001b[0;34m\u001b[0m\u001b[0;34m\u001b[0m\u001b[0m\n\u001b[1;32m    150\u001b[0m                     \u001b[0mrewards\u001b[0m \u001b[0;34m=\u001b[0m \u001b[0mtorch\u001b[0m\u001b[0;34m.\u001b[0m\u001b[0mtensor\u001b[0m\u001b[0;34m(\u001b[0m\u001b[0mrewards\u001b[0m\u001b[0;34m,\u001b[0m \u001b[0mdtype\u001b[0m\u001b[0;34m=\u001b[0m\u001b[0mtorch\u001b[0m\u001b[0;34m.\u001b[0m\u001b[0mfloat32\u001b[0m\u001b[0;34m,\u001b[0m \u001b[0mdevice\u001b[0m\u001b[0;34m=\u001b[0m\u001b[0mself\u001b[0m\u001b[0;34m.\u001b[0m\u001b[0mdevice\u001b[0m\u001b[0;34m)\u001b[0m\u001b[0;34m.\u001b[0m\u001b[0munsqueeze\u001b[0m\u001b[0;34m(\u001b[0m\u001b[0;36m1\u001b[0m\u001b[0;34m)\u001b[0m\u001b[0;34m\u001b[0m\u001b[0;34m\u001b[0m\u001b[0m\n",
            "\u001b[0;31mTypeError\u001b[0m: can't convert np.ndarray of type numpy.object_. The only supported types are: float64, float32, float16, complex64, complex128, int64, int32, int16, int8, uint64, uint32, uint16, uint8, and bool."
          ]
        }
      ],
      "source": [
        "from robot import Robot\n",
        "from arm_dynamics import ArmDynamics\n",
        "\n",
        "# DO NOT CHANGE\n",
        "# ---------------\n",
        "arm = Robot(\n",
        "        ArmDynamics(\n",
        "            num_links=2,\n",
        "            link_mass=0.1,\n",
        "            link_length=1,\n",
        "            joint_viscous_friction=0.1,\n",
        "            dt=0.01,\n",
        "\t    \t\t\tgravity=False\n",
        "        )\n",
        "    )\n",
        "arm.reset()\n",
        "env = ArmEnv(arm, gui=False)\n",
        "tqdn = TrainDQN(env)\n",
        "# ---------------\n",
        "\n",
        "# Call your trin function here\n",
        "tqdn.train()"
      ]
    },
    {
      "cell_type": "markdown",
      "source": [
        "To keep track of your experiments, it is good practice to plot and check how well is your model trained based on the returns vs episodes plot. With a large number of episodes, this  plot may look very jagged making it difficult to ascertain how well you are doing. We are proving code to smoothen out the plot by. This will take a large list of returns in every episode and plot a smoothened version of the list. Feel free to use it if it helps.\n",
        "```\n",
        "import seaborn as sns\n",
        "returns = __\n",
        "smoothing = 10\n",
        "\n",
        "smoothened = [sum(returns[i:i+smoothing])/smoothing for i in range(0, len(returns), smoothing)]\n",
        "sns.lineplot(smoothened)\n",
        "```"
      ],
      "metadata": {
        "id": "jAlaOcVJsn5a"
      }
    },
    {
      "cell_type": "code",
      "source": [
        "import seaborn as sns\n",
        "returns = __\n",
        "smoothing = 10\n",
        "\n",
        "smoothened = [sum(returns[i:i+smoothing])/smoothing for i in range(0, len(returns), smoothing)]\n",
        "sns.lineplot(smoothened)"
      ],
      "metadata": {
        "colab": {
          "base_uri": "https://localhost:8080/",
          "height": 452
        },
        "id": "yEspvInbxj7p",
        "outputId": "756e352b-a9b8-4737-a894-ed8473104217"
      },
      "execution_count": 12,
      "outputs": [
        {
          "output_type": "execute_result",
          "data": {
            "text/plain": [
              "<Axes: >"
            ]
          },
          "metadata": {},
          "execution_count": 12
        },
        {
          "output_type": "display_data",
          "data": {
            "text/plain": [
              "<Figure size 640x480 with 1 Axes>"
            ],
            "image/png": "[encoded data removed]"
          },
          "metadata": {}
        }
      ]
    },
    {
      "cell_type": "markdown",
      "metadata": {
        "id": "lIcBDbeTRNZI"
      },
      "source": [
        "### Load your model and test its performance\n",
        "Change your model path and the goal to see how well your learnt model is performing"
      ]
    },
    {
      "cell_type": "code",
      "execution_count": 13,
      "metadata": {
        "id": "x5gTRNKhRQQM",
        "colab": {
          "base_uri": "https://localhost:8080/"
        },
        "outputId": "0e7ef1f8-3f1f-49c3-ed99-15d343c447c7"
      },
      "outputs": [
        {
          "output_type": "stream",
          "name": "stdout",
          "text": [
            "Model path: models/2025-05-09_04-01-16/q_network_ep_1800.pth\n",
            "\n"
          ]
        },
        {
          "output_type": "stream",
          "name": "stderr",
          "text": [
            "/content/geometry.py:5: DeprecationWarning: Conversion of an array with ndim > 0 to a scalar is deprecated, and will error in future. Ensure you extract a single element from your array before performing this operation. (Deprecated NumPy 1.25.)\n",
            "  R[0,0] = np.cos(theta)\n",
            "/content/arm_dynamics.py:113: DeprecationWarning: Conversion of an array with ndim > 0 to a scalar is deprecated, and will error in future. Ensure you extract a single element from your array before performing this operation. (Deprecated NumPy 1.25.)\n",
            "  right_hand[self.idx_tau_eqbm(i), 0] += (tau[i + 1] if i < self.num_links - 1 else 0.0) - tau[i]\n"
          ]
        },
        {
          "output_type": "stream",
          "name": "stdout",
          "text": [
            "Episode return:  -38.75280314058176\n"
          ]
        }
      ],
      "source": [
        "import collections\n",
        "import random\n",
        "import numpy as np\n",
        "import torch\n",
        "import torch.nn as nn\n",
        "import torch.nn.functional as F\n",
        "import time\n",
        "from render import Renderer\n",
        "from arm_env import ArmEnv\n",
        "import numpy as np\n",
        "import os\n",
        "from math import dist\n",
        "import seaborn as sns\n",
        "from robot import Robot\n",
        "from arm_dynamics import ArmDynamics\n",
        "from geometry import polar2cartesian\n",
        "import glob\n",
        "\n",
        "# DO NOT CHANGE arm parameters\n",
        "arm = Robot(\n",
        "        ArmDynamics(\n",
        "            num_links=2,\n",
        "            link_mass=0.1,\n",
        "            link_length=1,\n",
        "            joint_viscous_friction=0.1,\n",
        "            dt=0.01,\n",
        "\t    \t\t\tgravity=False\n",
        "        )\n",
        "    )\n",
        "arm.reset()\n",
        "# ------------------\n",
        "\n",
        "env = ArmEnv(arm, gui=False)\n",
        "#model_path =  # Fill in the model_path\n",
        "list_of_files = glob.glob('models/*/*.pth')\n",
        "latest_file = max(list_of_files, key=os.path.getctime)\n",
        "model_path = latest_file\n",
        "print(f\"Model path: {model_path}\\n\")\n",
        "device = torch.device('cpu')\n",
        "qnet = QNetwork(env).to(device)\n",
        "qnet.load_state_dict(torch.load(model_path))\n",
        "qnet.eval()\n",
        "goal = polar2cartesian(1.6, 0.25 - np.pi/2.0)\n",
        "done = False\n",
        "obs = env.reset(goal)\n",
        "\n",
        "episode_return = 0\n",
        "while not done:\n",
        "    obs_tensor = torch.tensor(obs, dtype=torch.float32, device=device)\n",
        "    #obs = torch.tensor(obs, dtype=torch.float32, device=device)\n",
        "    action = qnet.select_discrete_action(obs, device)\n",
        "    action = qnet.action_discrete_to_continuous(action)\n",
        "    new_obs, reward, done, info = env.step(action)\n",
        "    episode_return += reward\n",
        "\n",
        "    pos_ee = info['pos_ee']\n",
        "    vel_ee = info['vel_ee']\n",
        "    dist = np.linalg.norm(pos_ee - goal)\n",
        "\n",
        "    obs = new_obs\n",
        "print('Episode return: ', episode_return)"
      ]
    },
    {
      "cell_type": "markdown",
      "source": [
        "### Grading and Evaluation\n",
        "You will be evaluated on 5 different goal positions worth 1.5 points each. You must pass the best `model_path` for your network. The scoring function will run one episode for every goal position and find the total reward (aka return) for the episode. For every goal you get:\n",
        "\n",
        "* 1 Point if `easy target < total reward < hard target`\n",
        "* 1.5 Points if `hard target < total reward`"
      ],
      "metadata": {
        "id": "pUDEYLsZLSp4"
      }
    },
    {
      "cell_type": "code",
      "source": [
        "from score import compute_score\n",
        "import torch.nn as nn\n",
        "import torch\n",
        "import torch.nn.functional as F\n",
        "from render import Renderer\n",
        "from arm_env import ArmEnv\n",
        "from robot import Robot\n",
        "from arm_dynamics import ArmDynamics\n",
        "import numpy as np\n",
        "import glob\n",
        "\n",
        "# DO NOT CHANGE arm parameters\n",
        "arm = Robot(\n",
        "        ArmDynamics(\n",
        "            num_links=2,\n",
        "            link_mass=0.1,\n",
        "            link_length=1,\n",
        "            joint_viscous_friction=0.1,\n",
        "            dt=0.01,\n",
        "\t    \t\t\tgravity=False\n",
        "        )\n",
        "    )\n",
        "arm.reset()\n",
        "# ------------------\n",
        "\n",
        "\n",
        "env = ArmEnv(arm, gui=False)\n",
        "list_of_files = glob.glob('models/*/*.pth')\n",
        "latest_file = max(list_of_files, key=os.path.getctime)\n",
        "model_path = latest_file\n",
        "print(f\"Model path: {model_path}\\n\")\n",
        "device = torch.device('cpu')\n",
        "qnet = QNetwork(env).to(device)\n",
        "qnet.load_state_dict(torch.load(model_path))\n",
        "qnet.eval()\n",
        "score = compute_score(qnet, env, device)"
      ],
      "metadata": {
        "id": "OhPD-u6TIxdl",
        "colab": {
          "base_uri": "https://localhost:8080/"
        },
        "outputId": "54b4bada-3111-4d64-cdfb-640fec704bc6"
      },
      "execution_count": 14,
      "outputs": [
        {
          "output_type": "stream",
          "name": "stdout",
          "text": [
            "Model path: models/2025-05-09_04-01-16/q_network_ep_1800.pth\n",
            "\n",
            "---Computing score---\n",
            "\n",
            "Goal 1:\n",
            "Total reward: -79.05391221057724\n",
            "easy target: -7\n",
            "hard target: -5\n",
            "points: 0\n",
            "\n",
            "Goal 2:\n",
            "Total reward: -38.75280314058176\n",
            "easy target: -7\n",
            "hard target: -5\n",
            "points: 0\n",
            "\n",
            "Goal 3:\n",
            "Total reward: -59.85164055832211\n",
            "easy target: -7\n",
            "hard target: -5\n",
            "points: 0\n",
            "\n",
            "Goal 4:\n",
            "Total reward: -32.25038926808096\n",
            "easy target: -7\n",
            "hard target: -5\n",
            "points: 0\n",
            "\n",
            "Goal 5:\n",
            "Total reward: -8.391587131286636\n",
            "easy target: -10\n",
            "hard target: -7\n",
            "points: 1\n",
            "\n",
            "\n",
            "Final score: 1\n"
          ]
        }
      ]
    },
    {
      "cell_type": "markdown",
      "source": [
        "# Part 2: PPO with an open source RL library\n",
        "\n",
        "In this part, you will use one of the most popular open source RL libraries ([Stable-Baselines3](https://stable-baselines3.readthedocs.io/en/master/)) to solve the same goal reaching problem as Part 1. We will use the same `ArmEnv` gym environment. The algorithm you should choose to use is PPO."
      ],
      "metadata": {
        "id": "vkCvO0-05XK5"
      }
    },
    {
      "cell_type": "markdown",
      "source": [
        "## PPO training\n",
        "\n",
        "We provide the code to construct parallel environments. Parallel environments can be very useful if you have good CPUs and it can speed up training."
      ],
      "metadata": {
        "id": "UBK89P2B8CgL"
      }
    },
    {
      "cell_type": "code",
      "source": [
        "# DO NOT CHANGE\n",
        "\n",
        "from stable_baselines3.common.vec_env.subproc_vec_env import SubprocVecEnv\n",
        "from stable_baselines3.common.vec_env.vec_monitor import VecMonitor\n",
        "from copy import deepcopy\n",
        "from robot import Robot\n",
        "from arm_dynamics import ArmDynamics\n",
        "from arm_env import ArmEnv\n",
        "\n",
        "class EnvMaker:\n",
        "    def __init__(self,  arm, seed):\n",
        "        self.seed = seed\n",
        "        self.arm = arm\n",
        "\n",
        "    def __call__(self):\n",
        "        arm = deepcopy(self.arm)\n",
        "        env = ArmEnv(arm)\n",
        "        env.seed(self.seed)\n",
        "        return env\n",
        "\n",
        "def make_vec_env(arm, nenv, seed):\n",
        "    return VecMonitor(SubprocVecEnv([EnvMaker(arm, seed  + 100 * i) for i in range(nenv)]))\n",
        "\n",
        "# conveniet function to create a robot arm\n",
        "def make_arm():\n",
        "    arm = Robot(\n",
        "        ArmDynamics(\n",
        "            num_links=2,\n",
        "            link_mass=0.1,\n",
        "            link_length=1,\n",
        "            joint_viscous_friction=0.1,\n",
        "            dt=0.01\n",
        "        )\n",
        "    )\n",
        "    arm.reset()\n",
        "    return arm\n"
      ],
      "metadata": {
        "id": "2RTqfmpVwMja"
      },
      "execution_count": 15,
      "outputs": []
    },
    {
      "cell_type": "markdown",
      "source": [
        "You will need to complete the code to train the policy using the [PPO class](https://stable-baselines3.readthedocs.io/en/master/modules/ppo.html) from stable_baselines3. We provide the code to generate the name of the directory to save the checkpoint, an example is `ppo_models/2025-04-21_01-14-13`. Your checkpoint model should be named `ppo_network.zip`. See the [save](https://stable-baselines3.readthedocs.io/en/master/modules/ppo.html#stable_baselines3.ppo.PPO.save) function. Training should take less than 40 minutes."
      ],
      "metadata": {
        "id": "Bniz2TouwM3S"
      }
    },
    {
      "cell_type": "code",
      "source": [
        "from stable_baselines3.ppo import PPO\n",
        "import os\n",
        "import time\n",
        "from stable_baselines3.common.utils import set_random_seed\n",
        "\n",
        "\n",
        "# Default parameters\n",
        "timesteps = 500000\n",
        "nenv = 8  # number of parallel environments. This can speed up training when you have good CPUs\n",
        "seed = 8\n",
        "batch_size = 2048\n",
        "\n",
        "# Generate path of the directory to save the checkpoint\n",
        "timestr = time.strftime(\"%Y-%m-%d_%H-%M-%S\")\n",
        "save_dir = os.path.join('ppo_models', timestr)\n",
        "\n",
        "# Set random seed\n",
        "set_random_seed(seed)\n",
        "\n",
        "# Create arm\n",
        "arm = make_arm()\n",
        "\n",
        "# Create parallel envs\n",
        "vec_env = make_vec_env(arm=arm, nenv=nenv, seed=seed)\n",
        "\n",
        "# ------ IMPLEMENT YOUR TRAINING CODE HERE ------------\n",
        "raise NotImplementedError\n",
        "\n",
        "# Do not forget to save your model at the end of training"
      ],
      "metadata": {
        "id": "FHoSWOnG-2sH",
        "colab": {
          "base_uri": "https://localhost:8080/",
          "height": 207
        },
        "outputId": "4f423ffc-06eb-4f34-de1e-03ed101c1d17"
      },
      "execution_count": 16,
      "outputs": [
        {
          "output_type": "error",
          "ename": "NotImplementedError",
          "evalue": "",
          "traceback": [
            "\u001b[0;31m---------------------------------------------------------------------------\u001b[0m",
            "\u001b[0;31mNotImplementedError\u001b[0m                       Traceback (most recent call last)",
            "\u001b[0;32m<ipython-input-16-7f77cd97db86>\u001b[0m in \u001b[0;36m<cell line: 0>\u001b[0;34m()\u001b[0m\n\u001b[1;32m     25\u001b[0m \u001b[0;34m\u001b[0m\u001b[0m\n\u001b[1;32m     26\u001b[0m \u001b[0;31m# ------ IMPLEMENT YOUR TRAINING CODE HERE ------------\u001b[0m\u001b[0;34m\u001b[0m\u001b[0;34m\u001b[0m\u001b[0m\n\u001b[0;32m---> 27\u001b[0;31m \u001b[0;32mraise\u001b[0m \u001b[0mNotImplementedError\u001b[0m\u001b[0;34m\u001b[0m\u001b[0;34m\u001b[0m\u001b[0m\n\u001b[0m\u001b[1;32m     28\u001b[0m \u001b[0;34m\u001b[0m\u001b[0m\n\u001b[1;32m     29\u001b[0m \u001b[0;31m# Do not forget to save your model at the end of training\u001b[0m\u001b[0;34m\u001b[0m\u001b[0;34m\u001b[0m\u001b[0m\n",
            "\u001b[0;31mNotImplementedError\u001b[0m: "
          ]
        }
      ]
    },
    {
      "cell_type": "markdown",
      "source": [
        "## Grading and evaluation\n",
        "\n",
        "The total number of points for Part 2 is 7.5. We will evaluate your trained model on 5 random goal locations. For each test, we assign points based on the distance between the end effector and the goal location at the end of the episode.\n",
        "\n",
        "- If 0 < distance < 0.05, you get 1.5 points.\n",
        "- If 0.05 <= distance < 0.1, you get 1 point.\n",
        "- If distance >= 0.1, you get 0 point.\n",
        "\n"
      ],
      "metadata": {
        "id": "f9N2falIz9rq"
      }
    },
    {
      "cell_type": "code",
      "source": [
        "from score import score_policy\n",
        "from stable_baselines3 import PPO\n",
        "from stable_baselines3.common.utils import set_random_seed\n",
        "from robot import Robot\n",
        "from arm_dynamics import ArmDynamics\n",
        "from render import Renderer\n",
        "import time\n",
        "\n",
        "# Set the path to your model\n",
        "model_path = 'ppo_network.zip'\n",
        "\n",
        "set_random_seed(seed=100)\n",
        "\n",
        "# Create arm robot\n",
        "arm = make_arm()\n",
        "\n",
        "# Create environment\n",
        "env = ArmEnv(arm, gui=False)\n",
        "env.seed(100)\n",
        "\n",
        "# Load and test policy\n",
        "policy = PPO.load(model_path)\n",
        "score_policy(policy, env)"
      ],
      "metadata": {
        "id": "X6eQ2mzglwd0"
      },
      "execution_count": null,
      "outputs": []
    }
  ]
}